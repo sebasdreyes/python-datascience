{
 "cells": [
  {
   "cell_type": "markdown",
   "id": "18e09617",
   "metadata": {},
   "source": [
    "# Pandas"
   ]
  },
  {
   "cell_type": "markdown",
   "id": "8ddc063e",
   "metadata": {},
   "source": [
    "### Import Pandas"
   ]
  },
  {
   "cell_type": "code",
   "execution_count": 1,
   "id": "bf1545e6",
   "metadata": {},
   "outputs": [],
   "source": [
    "import pandas as pd\n",
    "import numpy as np # Often used alongside Pandas"
   ]
  },
  {
   "cell_type": "markdown",
   "id": "75a180fa",
   "metadata": {},
   "source": [
    "### 1. Series Creation"
   ]
  },
  {
   "cell_type": "code",
   "execution_count": 2,
   "id": "b54800d5",
   "metadata": {},
   "outputs": [
    {
     "name": "stdout",
     "output_type": "stream",
     "text": [
      "Series from list:\n",
      "0    10\n",
      "1    20\n",
      "2    30\n",
      "3    40\n",
      "4    50\n",
      "dtype: int64\n",
      "\n",
      "Series with custom index:\n",
      "a    1\n",
      "b    2\n",
      "c    3\n",
      "dtype: int64\n",
      "\n",
      "Series from dictionary:\n",
      "apple     100\n",
      "banana    150\n",
      "orange     80\n",
      "dtype: int64\n"
     ]
    }
   ],
   "source": [
    "# Creating a Series from a list\n",
    "s = pd.Series([10, 20, 30, 40, 50])\n",
    "print(f\"Series from list:\\n{s}\")\n",
    "\n",
    "# Creating a Series with custom index\n",
    "s_indexed = pd.Series([1, 2, 3], index=['a', 'b', 'c'])\n",
    "print(f\"\\nSeries with custom index:\\n{s_indexed}\")\n",
    "\n",
    "# Creating a Series from a dictionary\n",
    "data_dict = {'apple': 100, 'banana': 150, 'orange': 80}\n",
    "s_dict = pd.Series(data_dict)\n",
    "print(f\"\\nSeries from dictionary:\\n{s_dict}\")"
   ]
  },
  {
   "cell_type": "markdown",
   "id": "5b4ebbea",
   "metadata": {},
   "source": [
    "### 2. DataFrame Creation\n"
   ]
  },
  {
   "cell_type": "code",
   "execution_count": 3,
   "id": "235593cd",
   "metadata": {},
   "outputs": [
    {
     "name": "stdout",
     "output_type": "stream",
     "text": [
      "DataFrame from dictionary of lists:\n",
      "      Name  Age         City  Salary\n",
      "0    Alice   24     New York   70000\n",
      "1      Bob   27  Los Angeles   85000\n",
      "2  Charlie   22      Chicago   60000\n",
      "3    David   32      Houston   95000\n",
      "4      Eva   29        Miami   80000\n",
      "\n",
      "DataFrame from list of dictionaries:\n",
      "    Name  Age     City\n",
      "0  Frank   35   Boston\n",
      "1  Grace   28  Seattle\n",
      "\n",
      "DataFrame from NumPy array:\n",
      "       ColA      ColB      ColC      ColD\n",
      "0  0.659843  0.418218  0.927876  0.666191\n",
      "1  0.007772  0.650945  0.917329  0.735345\n",
      "2  0.003663  0.128350  0.523684  0.811685\n"
     ]
    }
   ],
   "source": [
    "# Creating a DataFrame from a dictionary of lists (most common way)\n",
    "data = {\n",
    "    'Name': ['Alice', 'Bob', 'Charlie', 'David', 'Eva'],\n",
    "    'Age': [24, 27, 22, 32, 29],\n",
    "    'City': ['New York', 'Los Angeles', 'Chicago', 'Houston', 'Miami'],\n",
    "    'Salary': [70000, 85000, 60000, 95000, 80000]\n",
    "}\n",
    "df = pd.DataFrame(data)\n",
    "print(f\"DataFrame from dictionary of lists:\\n{df}\")\n",
    "\n",
    "# Creating a DataFrame from a list of dictionaries (rows)\n",
    "data_rows = [\n",
    "    {'Name': 'Frank', 'Age': 35, 'City': 'Boston'},\n",
    "    {'Name': 'Grace', 'Age': 28, 'City': 'Seattle'}\n",
    "]\n",
    "df_rows = pd.DataFrame(data_rows)\n",
    "print(f\"\\nDataFrame from list of dictionaries:\\n{df_rows}\")\n",
    "\n",
    "# Creating a DataFrame from a NumPy array\n",
    "np_array = np.random.rand(3, 4)\n",
    "df_np = pd.DataFrame(np_array, columns=['ColA', 'ColB', 'ColC', 'ColD'])\n",
    "print(f\"\\nDataFrame from NumPy array:\\n{df_np}\")\n"
   ]
  },
  {
   "cell_type": "markdown",
   "id": "cc68ca51",
   "metadata": {},
   "source": [
    "### 3. Data Loading (Example: CSV)"
   ]
  },
  {
   "cell_type": "code",
   "execution_count": 4,
   "id": "6d20b179",
   "metadata": {},
   "outputs": [
    {
     "name": "stdout",
     "output_type": "stream",
     "text": [
      "DataFrame loaded from 'CSV' string (StringIO):\n",
      "      Name  Age City  Score\n",
      "0    Alice   25  NYC     90\n",
      "1      Bob   30   LA     85\n",
      "2  Charlie   35  CHI     92\n",
      "3    David   28  NYC     88\n"
     ]
    }
   ],
   "source": [
    "# In a real scenario, you'd load from an actual file:\n",
    "# df_csv = pd.read_csv('your_data.csv')\n",
    "# print(f\"Loaded DataFrame from CSV (if file existed):\\n{df_csv.head()}\")\n",
    "\n",
    "# For demonstration, let's create a dummy CSV file-like object\n",
    "from io import StringIO\n",
    "csv_data = \"\"\"Name,Age,City,Score\n",
    "Alice,25,NYC,90\n",
    "Bob,30,LA,85\n",
    "Charlie,35,CHI,92\n",
    "David,28,NYC,88\n",
    "\"\"\"\n",
    "df_loaded = pd.read_csv(StringIO(csv_data))\n",
    "print(f\"DataFrame loaded from 'CSV' string (StringIO):\\n{df_loaded}\")"
   ]
  },
  {
   "cell_type": "markdown",
   "id": "094e228f",
   "metadata": {},
   "source": [
    "### 4. Data Inspection"
   ]
  },
  {
   "cell_type": "code",
   "execution_count": 5,
   "id": "554426c1",
   "metadata": {},
   "outputs": [
    {
     "name": "stdout",
     "output_type": "stream",
     "text": [
      "Original DataFrame (df):\n",
      "       Name  Age         City  Salary\n",
      "0    Alice   24     New York   70000\n",
      "1      Bob   27  Los Angeles   85000\n",
      "2  Charlie   22      Chicago   60000\n",
      "3    David   32      Houston   95000\n",
      "4      Eva   29        Miami   80000\n",
      "\n",
      "First 3 rows (df.head(3)):\n",
      "      Name  Age         City  Salary\n",
      "0    Alice   24     New York   70000\n",
      "1      Bob   27  Los Angeles   85000\n",
      "2  Charlie   22      Chicago   60000\n",
      "\n",
      "Last 2 rows (df.tail(2)):\n",
      "    Name  Age     City  Salary\n",
      "3  David   32  Houston   95000\n",
      "4    Eva   29    Miami   80000\n",
      "\n",
      "DataFrame Info (df.info()):\n",
      "<class 'pandas.core.frame.DataFrame'>\n",
      "RangeIndex: 5 entries, 0 to 4\n",
      "Data columns (total 4 columns):\n",
      " #   Column  Non-Null Count  Dtype \n",
      "---  ------  --------------  ----- \n",
      " 0   Name    5 non-null      object\n",
      " 1   Age     5 non-null      int64 \n",
      " 2   City    5 non-null      object\n",
      " 3   Salary  5 non-null      int64 \n",
      "dtypes: int64(2), object(2)\n",
      "memory usage: 292.0+ bytes\n",
      "\n",
      "Descriptive Statistics (df.describe()):\n",
      "             Age        Salary\n",
      "count   5.000000      5.000000\n",
      "mean   26.800000  78000.000000\n",
      "std     3.962323  13509.256086\n",
      "min    22.000000  60000.000000\n",
      "25%    24.000000  70000.000000\n",
      "50%    27.000000  80000.000000\n",
      "75%    29.000000  85000.000000\n",
      "max    32.000000  95000.000000\n",
      "\n",
      "DataFrame shape (rows, columns): (5, 4)\n",
      "DataFrame columns: ['Name', 'Age', 'City', 'Salary']\n",
      "DataFrame index: [0, 1, 2, 3, 4]\n"
     ]
    }
   ],
   "source": [
    "print(\"Original DataFrame (df):\\n\", df)\n",
    "print(f\"\\nFirst 3 rows (df.head(3)):\\n{df.head(3)}\")\n",
    "print(f\"\\nLast 2 rows (df.tail(2)):\\n{df.tail(2)}\")\n",
    "print(f\"\\nDataFrame Info (df.info()):\")\n",
    "df.info() # Provides a summary of the DataFrame (dtypes, non-null counts)\n",
    "print(f\"\\nDescriptive Statistics (df.describe()):\\n{df.describe()}\") # Numerical column stats\n",
    "print(f\"\\nDataFrame shape (rows, columns): {df.shape}\")\n",
    "print(f\"DataFrame columns: {df.columns.tolist()}\")\n",
    "print(f\"DataFrame index: {df.index.tolist()}\")"
   ]
  },
  {
   "cell_type": "markdown",
   "id": "cc742ef3",
   "metadata": {},
   "source": [
    "### 5. Data Selection (Indexing and Slicing)\""
   ]
  },
  {
   "cell_type": "code",
   "execution_count": 6,
   "id": "280499c9",
   "metadata": {},
   "outputs": [
    {
     "name": "stdout",
     "output_type": "stream",
     "text": [
      "Accessing a single column ('Name'):\n",
      "0      Alice\n",
      "1        Bob\n",
      "2    Charlie\n",
      "3      David\n",
      "4        Eva\n",
      "Name: Name, dtype: object\n",
      "\n",
      "Accessing multiple columns (['Name', 'City']):\n",
      "      Name         City\n",
      "0    Alice     New York\n",
      "1      Bob  Los Angeles\n",
      "2  Charlie      Chicago\n",
      "3    David      Houston\n",
      "4      Eva        Miami\n",
      "\n",
      "Accessing rows by label (index 0 and 2 using .loc):\n",
      "      Name  Age      City  Salary\n",
      "0    Alice   24  New York   70000\n",
      "2  Charlie   22   Chicago   60000\n",
      "\n",
      "Accessing specific cell (row 1, 'City' using .loc): Los Angeles\n",
      "\n",
      "Slicing rows and columns using .loc (rows 0-2, 'Age' to 'City'):\n",
      "   Age         City\n",
      "0   24     New York\n",
      "1   27  Los Angeles\n",
      "2   22      Chicago\n",
      "\n",
      "Accessing rows by integer position (index 1 and 3 using .iloc):\n",
      "    Name  Age         City  Salary\n",
      "1    Bob   27  Los Angeles   85000\n",
      "3  David   32      Houston   95000\n",
      "\n",
      "Accessing specific cell (row 0, column 0 using .iloc): Alice\n",
      "\n",
      "Slicing rows and columns using .iloc (rows 0-1, columns 1-2):\n",
      "   Age         City\n",
      "0   24     New York\n",
      "1   27  Los Angeles\n"
     ]
    }
   ],
   "source": [
    "print(f\"Accessing a single column ('Name'):\\n{df['Name']}\")\n",
    "print(f\"\\nAccessing multiple columns (['Name', 'City']):\\n{df[['Name', 'City']]}\")\n",
    "\n",
    "# .loc for label-based indexing\n",
    "print(f\"\\nAccessing rows by label (index 0 and 2 using .loc):\\n{df.loc[[0, 2]]}\")\n",
    "print(f\"\\nAccessing specific cell (row 1, 'City' using .loc): {df.loc[1, 'City']}\")\n",
    "print(f\"\\nSlicing rows and columns using .loc (rows 0-2, 'Age' to 'City'):\\n{df.loc[0:2, 'Age':'City']}\")\n",
    "\n",
    "# .iloc for integer-location based indexing\n",
    "print(f\"\\nAccessing rows by integer position (index 1 and 3 using .iloc):\\n{df.iloc[[1, 3]]}\")\n",
    "print(f\"\\nAccessing specific cell (row 0, column 0 using .iloc): {df.iloc[0, 0]}\")\n",
    "print(f\"\\nSlicing rows and columns using .iloc (rows 0-1, columns 1-2):\\n{df.iloc[0:2, 1:3]}\")"
   ]
  },
  {
   "cell_type": "markdown",
   "id": "69e69ee8",
   "metadata": {},
   "source": [
    "### 6. Data Filtering (Conditional Selection)"
   ]
  },
  {
   "cell_type": "code",
   "execution_count": 7,
   "id": "f37a0998",
   "metadata": {},
   "outputs": [
    {
     "name": "stdout",
     "output_type": "stream",
     "text": [
      "Rows where Age > 25:\n",
      "    Name  Age         City  Salary\n",
      "1    Bob   27  Los Angeles   85000\n",
      "3  David   32      Houston   95000\n",
      "4    Eva   29        Miami   80000\n",
      "\n",
      "Rows where Age > 25 AND Salary < 90000:\n",
      "  Name  Age         City  Salary\n",
      "1  Bob   27  Los Angeles   85000\n",
      "4  Eva   29        Miami   80000\n",
      "\n",
      "Rows where City is 'New York' or 'Chicago':\n",
      "      Name  Age      City  Salary\n",
      "0    Alice   24  New York   70000\n",
      "2  Charlie   22   Chicago   60000\n"
     ]
    }
   ],
   "source": [
    "# Filter rows where Age > 25\n",
    "older_than_25 = df[df['Age'] > 25]\n",
    "print(f\"Rows where Age > 25:\\n{older_than_25}\")\n",
    "\n",
    "# Filter with multiple conditions (Age > 25 AND Salary < 90000)\n",
    "# Use & for AND, | for OR, enclose each condition in parentheses\n",
    "complex_filter = df[(df['Age'] > 25) & (df['Salary'] < 90000)]\n",
    "print(f\"\\nRows where Age > 25 AND Salary < 90000:\\n{complex_filter}\")\n",
    "\n",
    "# Filter using .isin()\n",
    "cities_of_interest = ['New York', 'Chicago']\n",
    "filtered_cities = df[df['City'].isin(cities_of_interest)]\n",
    "print(f\"\\nRows where City is 'New York' or 'Chicago':\\n{filtered_cities}\")"
   ]
  },
  {
   "cell_type": "markdown",
   "id": "4188d8c8",
   "metadata": {},
   "source": [
    "### 7. Handling Missing Data (NaN)"
   ]
  },
  {
   "cell_type": "code",
   "execution_count": 8,
   "id": "21503269",
   "metadata": {},
   "outputs": [
    {
     "name": "stdout",
     "output_type": "stream",
     "text": [
      "DataFrame with introduced NaN values:\n",
      "      Name  Age         City   Salary\n",
      "0    Alice   24     New York  70000.0\n",
      "1      Bob   27  Los Angeles      NaN\n",
      "2  Charlie   22      Chicago  60000.0\n",
      "3    David   32          NaN  95000.0\n",
      "4      Eva   29        Miami  80000.0\n",
      "\n",
      "Check for missing values (df_missing.isnull()):\n",
      "    Name    Age   City  Salary\n",
      "0  False  False  False   False\n",
      "1  False  False  False    True\n",
      "2  False  False  False   False\n",
      "3  False  False   True   False\n",
      "4  False  False  False   False\n",
      "\n",
      "Number of missing values per column (df_missing.isnull().sum()):\n",
      "Name      0\n",
      "Age       0\n",
      "City      1\n",
      "Salary    1\n",
      "dtype: int64\n",
      "\n",
      "DataFrame after dropping rows with any NA:\n",
      "      Name  Age      City   Salary\n",
      "0    Alice   24  New York  70000.0\n",
      "2  Charlie   22   Chicago  60000.0\n",
      "4      Eva   29     Miami  80000.0\n",
      "\n",
      "DataFrame after filling 'Salary' NA with mean:\n",
      "      Name  Age         City   Salary\n",
      "0    Alice   24     New York  70000.0\n",
      "1      Bob   27  Los Angeles  76250.0\n",
      "2  Charlie   22      Chicago  60000.0\n",
      "3    David   32          NaN  95000.0\n",
      "4      Eva   29        Miami  80000.0\n",
      "\n",
      "DataFrame after filling 'City' NA with 'Unknown':\n",
      "      Name  Age         City   Salary\n",
      "0    Alice   24     New York  70000.0\n",
      "1      Bob   27  Los Angeles      NaN\n",
      "2  Charlie   22      Chicago  60000.0\n",
      "3    David   32      Unknown  95000.0\n",
      "4      Eva   29        Miami  80000.0\n"
     ]
    }
   ],
   "source": [
    "df_missing = df.copy()\n",
    "df_missing.loc[1, 'Salary'] = np.nan # Introduce a missing value\n",
    "df_missing.loc[3, 'City'] = np.nan\n",
    "print(f\"DataFrame with introduced NaN values:\\n{df_missing}\")\n",
    "\n",
    "print(f\"\\nCheck for missing values (df_missing.isnull()):\\n{df_missing.isnull()}\")\n",
    "print(f\"\\nNumber of missing values per column (df_missing.isnull().sum()):\\n{df_missing.isnull().sum()}\")\n",
    "\n",
    "# Drop rows with any missing values\n",
    "df_dropped_na = df_missing.dropna()\n",
    "print(f\"\\nDataFrame after dropping rows with any NA:\\n{df_dropped_na}\")\n",
    "\n",
    "# Fill missing 'Salary' with its mean\n",
    "mean_salary = df_missing['Salary'].mean()\n",
    "df_filled_salary = df_missing.fillna({'Salary': mean_salary})\n",
    "print(f\"\\nDataFrame after filling 'Salary' NA with mean:\\n{df_filled_salary}\")\n",
    "\n",
    "# Fill missing 'City' with a specific value\n",
    "df_filled_city = df_missing.fillna({'City': 'Unknown'})\n",
    "print(f\"\\nDataFrame after filling 'City' NA with 'Unknown':\\n{df_filled_city}\")"
   ]
  },
  {
   "cell_type": "markdown",
   "id": "1cfa9d8b",
   "metadata": {},
   "source": [
    "### 8. Grouping and Aggregation (.groupby())"
   ]
  },
  {
   "cell_type": "code",
   "execution_count": 9,
   "id": "1229537e",
   "metadata": {},
   "outputs": [
    {
     "name": "stdout",
     "output_type": "stream",
     "text": [
      "Average Salary by City:\n",
      "City\n",
      "Chicago        60000.0\n",
      "Houston        95000.0\n",
      "Los Angeles    85000.0\n",
      "Miami          80000.0\n",
      "New York       70000.0\n",
      "Name: Salary, dtype: float64\n",
      "\n",
      "Multiple aggregations by City:\n",
      "             Avg_Age  Min_Salary  Count\n",
      "City                                   \n",
      "Chicago         22.0       60000      1\n",
      "Houston         32.0       95000      1\n",
      "Los Angeles     27.0       85000      1\n",
      "Miami           29.0       80000      1\n",
      "New York        24.0       70000      1\n"
     ]
    }
   ],
   "source": [
    "# Calculate the average salary per city\n",
    "avg_salary_by_city = df.groupby('City')['Salary'].mean()\n",
    "print(f\"Average Salary by City:\\n{avg_salary_by_city}\")\n",
    "\n",
    "# Group by multiple columns and get multiple aggregations\n",
    "multi_agg = df.groupby('City').agg(\n",
    "    Avg_Age=('Age', 'mean'),\n",
    "    Min_Salary=('Salary', 'min'),\n",
    "    Count=('Name', 'size')\n",
    ")\n",
    "print(f\"\\nMultiple aggregations by City:\\n{multi_agg}\")"
   ]
  },
  {
   "cell_type": "markdown",
   "id": "32536c9e",
   "metadata": {},
   "source": [
    "### 9. Merging/Joining DataFrames"
   ]
  },
  {
   "cell_type": "code",
   "execution_count": 10,
   "id": "6fcb3497",
   "metadata": {},
   "outputs": [
    {
     "name": "stdout",
     "output_type": "stream",
     "text": [
      "df_info:\n",
      "      Name Department\n",
      "0    Alice         HR\n",
      "1      Bob         IT\n",
      "2  Charlie    Finance\n",
      "3    David         HR\n",
      "Original df:\n",
      "      Name  Age         City  Salary\n",
      "0    Alice   24     New York   70000\n",
      "1      Bob   27  Los Angeles   85000\n",
      "2  Charlie   22      Chicago   60000\n",
      "3    David   32      Houston   95000\n",
      "4      Eva   29        Miami   80000\n",
      "\n",
      "Merged DataFrame (df with df_info on 'Name'):\n",
      "      Name  Age         City  Salary Department\n",
      "0    Alice   24     New York   70000         HR\n",
      "1      Bob   27  Los Angeles   85000         IT\n",
      "2  Charlie   22      Chicago   60000    Finance\n",
      "3    David   32      Houston   95000         HR\n",
      "\n",
      "Left Merged DataFrame (df left merge with df_projects):\n",
      "      Name  Age         City  Salary Project\n",
      "0    Alice   24     New York   70000   Alpha\n",
      "1      Bob   27  Los Angeles   85000    Beta\n",
      "2  Charlie   22      Chicago   60000     NaN\n",
      "3    David   32      Houston   95000     NaN\n",
      "4      Eva   29        Miami   80000     NaN\n"
     ]
    }
   ],
   "source": [
    "df_info = pd.DataFrame({\n",
    "    'Name': ['Alice', 'Bob', 'Charlie', 'David'],\n",
    "    'Department': ['HR', 'IT', 'Finance', 'HR']\n",
    "})\n",
    "print(f\"df_info:\\n{df_info}\")\n",
    "print(f\"Original df:\\n{df}\")\n",
    "\n",
    "# Merge based on 'Name' column (inner join by default)\n",
    "merged_df = pd.merge(df, df_info, on='Name', how='inner')\n",
    "print(f\"\\nMerged DataFrame (df with df_info on 'Name'):\\n{merged_df}\")\n",
    "\n",
    "# Example of a left merge (keep all rows from left, add matching from right)\n",
    "df_projects = pd.DataFrame({\n",
    "    'Name': ['Alice', 'Bob', 'Eve'],\n",
    "    'Project': ['Alpha', 'Beta', 'Gamma']\n",
    "})\n",
    "left_merged_df = pd.merge(df, df_projects, on='Name', how='left')\n",
    "print(f\"\\nLeft Merged DataFrame (df left merge with df_projects):\\n{left_merged_df}\")"
   ]
  },
  {
   "cell_type": "markdown",
   "id": "27118f87",
   "metadata": {},
   "source": [
    "### 10. Basic Operations and Transformations"
   ]
  },
  {
   "cell_type": "code",
   "execution_count": 11,
   "id": "d64c2d84",
   "metadata": {},
   "outputs": [
    {
     "name": "stdout",
     "output_type": "stream",
     "text": [
      "DataFrame with 'Bonus' column:\n",
      "      Name  Age         City  Salary   Bonus\n",
      "0    Alice   24     New York   70000  7000.0\n",
      "1      Bob   27  Los Angeles   85000  8500.0\n",
      "2  Charlie   22      Chicago   60000  6000.0\n",
      "3    David   32      Houston   95000  9500.0\n",
      "4      Eva   29        Miami   80000  8000.0\n",
      "\n",
      "DataFrame with 'Age_Category' column:\n",
      "      Name  Age         City  Salary   Bonus Age_Category\n",
      "0    Alice   24     New York   70000  7000.0        Adult\n",
      "1      Bob   27  Los Angeles   85000  8500.0        Adult\n",
      "2  Charlie   22      Chicago   60000  6000.0        Adult\n",
      "3    David   32      Houston   95000  9500.0        Adult\n",
      "4      Eva   29        Miami   80000  8000.0        Adult\n",
      "\n",
      "DataFrame sorted by 'Age' (ascending):\n",
      "      Name  Age         City  Salary   Bonus Age_Category\n",
      "2  Charlie   22      Chicago   60000  6000.0        Adult\n",
      "0    Alice   24     New York   70000  7000.0        Adult\n",
      "1      Bob   27  Los Angeles   85000  8500.0        Adult\n",
      "4      Eva   29        Miami   80000  8000.0        Adult\n",
      "3    David   32      Houston   95000  9500.0        Adult\n",
      "\n",
      "DataFrame sorted by 'Salary' (desc) then 'City' (asc):\n",
      "      Name  Age         City  Salary   Bonus Age_Category\n",
      "3    David   32      Houston   95000  9500.0        Adult\n",
      "1      Bob   27  Los Angeles   85000  8500.0        Adult\n",
      "4      Eva   29        Miami   80000  8000.0        Adult\n",
      "0    Alice   24     New York   70000  7000.0        Adult\n",
      "2  Charlie   22      Chicago   60000  6000.0        Adult\n",
      "\n",
      "DataFrame with renamed columns:\n",
      "  Full Name  Years Old         City  Salary   Bonus Age_Category\n",
      "0     Alice         24     New York   70000  7000.0        Adult\n",
      "1       Bob         27  Los Angeles   85000  8500.0        Adult\n",
      "2   Charlie         22      Chicago   60000  6000.0        Adult\n",
      "3     David         32      Houston   95000  9500.0        Adult\n",
      "4       Eva         29        Miami   80000  8000.0        Adult\n",
      "\n",
      "DataFrame after dropping 'Bonus' column:\n",
      "      Name  Age         City  Salary Age_Category\n",
      "0    Alice   24     New York   70000        Adult\n",
      "1      Bob   27  Los Angeles   85000        Adult\n",
      "2  Charlie   22      Chicago   60000        Adult\n",
      "3    David   32      Houston   95000        Adult\n",
      "4      Eva   29        Miami   80000        Adult\n"
     ]
    }
   ],
   "source": [
    "# Add a new column (e.g., 'Bonus' as 10% of 'Salary')\n",
    "df['Bonus'] = df['Salary'] * 0.10\n",
    "print(f\"DataFrame with 'Bonus' column:\\n{df}\")\n",
    "\n",
    "# Apply a function to a column\n",
    "df['Age_Category'] = df['Age'].apply(lambda x: 'Adult' if x >= 18 else 'Minor')\n",
    "print(f\"\\nDataFrame with 'Age_Category' column:\\n{df}\")\n",
    "\n",
    "# Sorting values\n",
    "df_sorted_age = df.sort_values(by='Age', ascending=True)\n",
    "print(f\"\\nDataFrame sorted by 'Age' (ascending):\\n{df_sorted_age}\")\n",
    "\n",
    "df_sorted_salary_city = df.sort_values(by=['Salary', 'City'], ascending=[False, True])\n",
    "print(f\"\\nDataFrame sorted by 'Salary' (desc) then 'City' (asc):\\n{df_sorted_salary_city}\")\n",
    "\n",
    "# Renaming columns\n",
    "df_renamed = df.rename(columns={'Name': 'Full Name', 'Age': 'Years Old'})\n",
    "print(f\"\\nDataFrame with renamed columns:\\n{df_renamed}\")\n",
    "\n",
    "# Dropping columns/rows\n",
    "df_no_bonus = df.drop(columns=['Bonus'])\n",
    "print(f\"\\nDataFrame after dropping 'Bonus' column:\\n{df_no_bonus}\")\n",
    "\n",
    "# df_no_row1 = df.drop(index=1) # Drop row by index label\n",
    "# print(f\"\\nDataFrame after dropping row with index 1:\\n{df_no_row1}\")"
   ]
  }
 ],
 "metadata": {
  "kernelspec": {
   "display_name": "Python 3",
   "language": "python",
   "name": "python3"
  },
  "language_info": {
   "codemirror_mode": {
    "name": "ipython",
    "version": 3
   },
   "file_extension": ".py",
   "mimetype": "text/x-python",
   "name": "python",
   "nbconvert_exporter": "python",
   "pygments_lexer": "ipython3",
   "version": "3.11.9"
  }
 },
 "nbformat": 4,
 "nbformat_minor": 5
}
