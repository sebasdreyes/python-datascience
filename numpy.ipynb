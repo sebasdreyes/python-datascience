{
 "cells": [
  {
   "cell_type": "markdown",
   "id": "38e7b503",
   "metadata": {},
   "source": [
    "# Numpy"
   ]
  },
  {
   "cell_type": "markdown",
   "id": "7a2e4918",
   "metadata": {},
   "source": [
    "### Import numpy"
   ]
  },
  {
   "cell_type": "code",
   "execution_count": null,
   "id": "a65cc106",
   "metadata": {},
   "outputs": [],
   "source": [
    "import numpy as np"
   ]
  },
  {
   "cell_type": "markdown",
   "id": "c46ebc31",
   "metadata": {},
   "source": [
    "### Creating arrays from Python lists"
   ]
  },
  {
   "cell_type": "code",
   "execution_count": 3,
   "id": "b6969521",
   "metadata": {},
   "outputs": [
    {
     "name": "stdout",
     "output_type": "stream",
     "text": [
      "From list: [1 2 3 4 5]\n"
     ]
    }
   ],
   "source": [
    "\n",
    "list1 = [1, 2, 3, 4, 5]\n",
    "arr1 = np.array(list1)\n",
    "print(f\"From list: {arr1}\")"
   ]
  },
  {
   "cell_type": "markdown",
   "id": "dbd50cb8",
   "metadata": {},
   "source": [
    "### Creating arrays with a specific range"
   ]
  },
  {
   "cell_type": "code",
   "execution_count": 4,
   "id": "a73be935",
   "metadata": {},
   "outputs": [
    {
     "name": "stdout",
     "output_type": "stream",
     "text": [
      "Using arange(10): [0 1 2 3 4 5 6 7 8 9]\n"
     ]
    }
   ],
   "source": [
    "arr_range = np.arange(10) # 0 to 9\n",
    "print(f\"Using arange(10): {arr_range}\")"
   ]
  },
  {
   "cell_type": "markdown",
   "id": "6fe6cc26",
   "metadata": {},
   "source": [
    "### Creating arrays with zeros, ones, or an empty shell"
   ]
  },
  {
   "cell_type": "code",
   "execution_count": 5,
   "id": "97172cd3",
   "metadata": {},
   "outputs": [
    {
     "name": "stdout",
     "output_type": "stream",
     "text": [
      "Zeros array (2x3):\n",
      "[[0. 0. 0.]\n",
      " [0. 0. 0.]]\n",
      "Ones array (1D):\n",
      "[1. 1. 1. 1.]\n",
      "Empty array (3x2, values may vary):\n",
      "[[0. 0.]\n",
      " [0. 0.]\n",
      " [0. 0.]]\n"
     ]
    }
   ],
   "source": [
    "zeros_arr = np.zeros((2, 3)) # 2 rows, 3 columns of zeros\n",
    "ones_arr = np.ones(4)      # 1D array of four ones\n",
    "empty_arr = np.empty((3, 2)) # 3 rows, 2 columns (uninitialized values)\n",
    "print(f\"Zeros array (2x3):\\n{zeros_arr}\")\n",
    "print(f\"Ones array (1D):\\n{ones_arr}\")\n",
    "print(f\"Empty array (3x2, values may vary):\\n{empty_arr}\")"
   ]
  },
  {
   "cell_type": "markdown",
   "id": "d573dcda",
   "metadata": {},
   "source": [
    "### Creating an identity matrix (square matrix with ones on the diagonal)"
   ]
  },
  {
   "cell_type": "code",
   "execution_count": 6,
   "id": "4a467b8c",
   "metadata": {},
   "outputs": [
    {
     "name": "stdout",
     "output_type": "stream",
     "text": [
      "Identity matrix (3x3):\n",
      "[[1. 0. 0.]\n",
      " [0. 1. 0.]\n",
      " [0. 0. 1.]]\n"
     ]
    }
   ],
   "source": [
    "identity_matrix = np.eye(3)\n",
    "print(f\"Identity matrix (3x3):\\n{identity_matrix}\")"
   ]
  },
  {
   "cell_type": "markdown",
   "id": "6bb8b828",
   "metadata": {},
   "source": [
    "### Creating arrays with evenly spaced values within a range"
   ]
  },
  {
   "cell_type": "code",
   "execution_count": 8,
   "id": "6f05c02b",
   "metadata": {},
   "outputs": [
    {
     "name": "stdout",
     "output_type": "stream",
     "text": [
      "Linspace (0 to 10, 5 points): [ 0.   2.5  5.   7.5 10. ]\n",
      "Array Attributes\n",
      "--------------------\n",
      "Array: [1 2 3 4 5]\n",
      "Shape of arr1: (5,)\n",
      "Data type of arr1: int32\n",
      "Number of dimensions of arr1: 1\n",
      "Number of elements in arr1: 5\n",
      "\n",
      "Multi-dimensional array:\n",
      "[[1 2 3]\n",
      " [4 5 6]]\n",
      "Shape of multi_dim_arr: (2, 3)\n",
      "Number of dimensions of multi_dim_arr: 2\n",
      "Array Operations (Element-wise)\n",
      "---------------------------------\n",
      "Array A: [1 2 3]\n",
      "Array B: [4 5 6]\n",
      "Addition (A + B): [5 7 9]\n",
      "Subtraction (A - B): [-3 -3 -3]\n",
      "Multiplication (A * B): [ 4 10 18]\n",
      "Division (A / B): [0.25 0.4  0.5 ]\n",
      "Exponentiation (A ** 2): [1 4 9]\n"
     ]
    }
   ],
   "source": [
    "\n",
    "linspace_arr = np.linspace(0, 10, 5) # 5 evenly spaced points between 0 and 10\n",
    "print(f\"Linspace (0 to 10, 5 points): {linspace_arr}\")\n",
    "\n",
    "print(\"Array Attributes\")\n",
    "print(\"--------------------\")\n",
    "print(f\"Array: {arr1}\")\n",
    "print(f\"Shape of arr1: {arr1.shape}\") # Dimensions of the array\n",
    "print(f\"Data type of arr1: {arr1.dtype}\") # Type of elements in the array\n",
    "print(f\"Number of dimensions of arr1: {arr1.ndim}\") # Number of dimensions (axes)\n",
    "print(f\"Number of elements in arr1: {arr1.size}\") # Total number of elements\n",
    "\n",
    "multi_dim_arr = np.array([[1, 2, 3], [4, 5, 6]])\n",
    "print(f\"\\nMulti-dimensional array:\\n{multi_dim_arr}\")\n",
    "print(f\"Shape of multi_dim_arr: {multi_dim_arr.shape}\")\n",
    "print(f\"Number of dimensions of multi_dim_arr: {multi_dim_arr.ndim}\")\n",
    "\n",
    "print(\"Array Operations (Element-wise)\")\n",
    "print(\"---------------------------------\")\n",
    "arr_a = np.array([1, 2, 3])\n",
    "arr_b = np.array([4, 5, 6])\n",
    "print(f\"Array A: {arr_a}\")\n",
    "print(f\"Array B: {arr_b}\")\n",
    "\n",
    "print(f\"Addition (A + B): {arr_a + arr_b}\")\n",
    "print(f\"Subtraction (A - B): {arr_a - arr_b}\")\n",
    "print(f\"Multiplication (A * B): {arr_a * arr_b}\")\n",
    "print(f\"Division (A / B): {arr_a / arr_b}\")\n",
    "print(f\"Exponentiation (A ** 2): {arr_a ** 2}\")"
   ]
  },
  {
   "cell_type": "markdown",
   "id": "2c38c152",
   "metadata": {},
   "source": [
    "### Universal functions (ufuncs)"
   ]
  },
  {
   "cell_type": "code",
   "execution_count": 11,
   "id": "c20901b9",
   "metadata": {},
   "outputs": [
    {
     "name": "stdout",
     "output_type": "stream",
     "text": [
      "Square root of A: [1.         1.41421356 1.73205081]\n",
      "Sine of A: [0.84147098 0.90929743 0.14112001]\n"
     ]
    }
   ],
   "source": [
    "print(f\"Square root of A: {np.sqrt(arr_a)}\")\n",
    "print(f\"Sine of A: {np.sin(arr_a)}\")"
   ]
  },
  {
   "cell_type": "code",
   "execution_count": 12,
   "id": "f6d28bfd",
   "metadata": {},
   "outputs": [
    {
     "name": "stdout",
     "output_type": "stream",
     "text": [
      "Array Indexing and Slicing\n",
      "------------------------------\n",
      "Original array for slicing: [10 11 12 13 14 15 16 17 18 19]\n",
      "Element at index 0: 10\n",
      "Elements from index 2 to 5 (exclusive): [12 13 14 15]\n",
      "Elements from index 5 to end: [15 16 17 18 19]\n",
      "Elements from beginning to index 3 (exclusive): [10 11 12 13]\n",
      "Last element: 19\n",
      "Multi-dimensional array for slicing:\n",
      "[[10 11 12]\n",
      " [20 21 22]\n",
      " [30 31 32]]\n",
      "Element at [0, 1]: 11\n",
      "First row: [10 11 12]\n",
      "Second column: [11 21 31]\n",
      "Sub-array (first 2 rows, last 2 columns):\n",
      "[[11 12]\n",
      " [21 22]]\n"
     ]
    }
   ],
   "source": [
    "print(\"Array Indexing and Slicing\")\n",
    "print(\"------------------------------\")\n",
    "arr_slice = np.arange(10, 20) # Array from 10 to 19\n",
    "print(f\"Original array for slicing: {arr_slice}\")\n",
    "print(f\"Element at index 0: {arr_slice[0]}\")\n",
    "print(f\"Elements from index 2 to 5 (exclusive): {arr_slice[2:6]}\")\n",
    "print(f\"Elements from index 5 to end: {arr_slice[5:]}\")\n",
    "print(f\"Elements from beginning to index 3 (exclusive): {arr_slice[:4]}\")\n",
    "print(f\"Last element: {arr_slice[-1]}\")\n",
    "\n",
    "multi_dim_slice = np.array([[10, 11, 12], [20, 21, 22], [30, 31, 32]])\n",
    "print(f\"Multi-dimensional array for slicing:\\n{multi_dim_slice}\")\n",
    "print(f\"Element at [0, 1]: {multi_dim_slice[0, 1]}\") # First row, second column\n",
    "print(f\"First row: {multi_dim_slice[0, :]}\")\n",
    "print(f\"Second column: {multi_dim_slice[:, 1]}\")\n",
    "print(f\"Sub-array (first 2 rows, last 2 columns):\\n{multi_dim_slice[:2, 1:]}\")"
   ]
  },
  {
   "cell_type": "code",
   "execution_count": 13,
   "id": "eab82a84",
   "metadata": {},
   "outputs": [
    {
     "name": "stdout",
     "output_type": "stream",
     "text": [
      "Reshaping and Transposing\n",
      "----------------------------\n",
      "Original 1D array: [ 0  1  2  3  4  5  6  7  8  9 10 11]\n",
      "Reshaped to 3x4:\n",
      "[[ 0  1  2  3]\n",
      " [ 4  5  6  7]\n",
      " [ 8  9 10 11]]\n",
      "Transposed array:\n",
      "[[ 0  4  8]\n",
      " [ 1  5  9]\n",
      " [ 2  6 10]\n",
      " [ 3  7 11]]\n"
     ]
    }
   ],
   "source": [
    "print(\"Reshaping and Transposing\")\n",
    "print(\"----------------------------\")\n",
    "arr_reshape = np.arange(12)\n",
    "print(f\"Original 1D array: {arr_reshape}\")\n",
    "reshaped_arr = arr_reshape.reshape(3, 4) # Reshape into 3 rows, 4 columns\n",
    "print(f\"Reshaped to 3x4:\\n{reshaped_arr}\")\n",
    "\n",
    "transposed_arr = reshaped_arr.T # Transpose (rows become columns and vice versa)\n",
    "print(f\"Transposed array:\\n{transposed_arr}\")"
   ]
  },
  {
   "cell_type": "code",
   "execution_count": 14,
   "id": "a879fc98",
   "metadata": {},
   "outputs": [
    {
     "name": "stdout",
     "output_type": "stream",
     "text": [
      "Aggregation Functions\n",
      "-------------------------\n",
      "Array for aggregation:\n",
      "[[1 2 3]\n",
      " [4 5 6]]\n",
      "Sum of all elements: 21\n",
      "Minimum of all elements: 1\n",
      "Maximum of all elements: 6\n",
      "Mean of all elements: 3.5\n",
      "Standard deviation of all elements: 1.707825127659933\n",
      "Sum along columns (axis=0): [5 7 9]\n",
      "Sum along rows (axis=1): [ 6 15]\n"
     ]
    }
   ],
   "source": [
    "print(\"Aggregation Functions\")\n",
    "print(\"-------------------------\")\n",
    "agg_arr = np.array([[1, 2, 3], [4, 5, 6]])\n",
    "print(f\"Array for aggregation:\\n{agg_arr}\")\n",
    "print(f\"Sum of all elements: {np.sum(agg_arr)}\")\n",
    "print(f\"Minimum of all elements: {np.min(agg_arr)}\")\n",
    "print(f\"Maximum of all elements: {np.max(agg_arr)}\")\n",
    "print(f\"Mean of all elements: {np.mean(agg_arr)}\")\n",
    "print(f\"Standard deviation of all elements: {np.std(agg_arr)}\")\n",
    "\n",
    "print(f\"Sum along columns (axis=0): {np.sum(agg_arr, axis=0)}\") # Sum down each column\n",
    "print(f\"Sum along rows (axis=1): {np.sum(agg_arr, axis=1)}\")    # Sum across each row"
   ]
  },
  {
   "cell_type": "code",
   "execution_count": 15,
   "id": "0d67544c",
   "metadata": {},
   "outputs": [
    {
     "name": "stdout",
     "output_type": "stream",
     "text": [
      "Stacking and Splitting Arrays\n",
      "---------------------------------\n",
      "Array 1: [1 2 3]\n",
      "Array 2: [4 5 6]\n",
      "Vertically stacked:\n",
      "[[1 2 3]\n",
      " [4 5 6]]\n",
      "Horizontally stacked: [1 2 3 4 5 6]\n"
     ]
    }
   ],
   "source": [
    "print(\"Stacking and Splitting Arrays\")\n",
    "print(\"---------------------------------\")\n",
    "stack_arr1 = np.array([1, 2, 3])\n",
    "stack_arr2 = np.array([4, 5, 6])\n",
    "print(f\"Array 1: {stack_arr1}\")\n",
    "print(f\"Array 2: {stack_arr2}\")\n",
    "\n",
    "v_stack = np.vstack((stack_arr1, stack_arr2)) # Stack vertically (adds rows)\n",
    "h_stack = np.hstack((stack_arr1, stack_arr2)) # Stack horizontally (concatenates)\n",
    "print(f\"Vertically stacked:\\n{v_stack}\")\n",
    "print(f\"Horizontally stacked: {h_stack}\")"
   ]
  },
  {
   "cell_type": "markdown",
   "id": "90a23102",
   "metadata": {},
   "source": [
    "### Splitting arrays"
   ]
  },
  {
   "cell_type": "code",
   "execution_count": 17,
   "id": "15788338",
   "metadata": {},
   "outputs": [
    {
     "name": "stdout",
     "output_type": "stream",
     "text": [
      "\n",
      "Array to split:\n",
      "[[0 1 2]\n",
      " [3 4 5]\n",
      " [6 7 8]]\n",
      "Horizontal split (list of arrays): [array([[0],\n",
      "       [3],\n",
      "       [6]]), array([[1],\n",
      "       [4],\n",
      "       [7]]), array([[2],\n",
      "       [5],\n",
      "       [8]])]\n",
      "Vertical split (list of arrays): [array([[0, 1, 2]]), array([[3, 4, 5]]), array([[6, 7, 8]])]\n"
     ]
    }
   ],
   "source": [
    "arr_to_split = np.arange(9).reshape(3, 3)\n",
    "print(f\"\\nArray to split:\\n{arr_to_split}\")\n",
    "h_split = np.hsplit(arr_to_split, 3) # Split horizontally into 3 equal parts\n",
    "v_split = np.vsplit(arr_to_split, 3) # Split vertically into 3 equal parts\n",
    "print(f\"Horizontal split (list of arrays): {h_split}\")\n",
    "print(f\"Vertical split (list of arrays): {v_split}\")"
   ]
  }
 ],
 "metadata": {
  "kernelspec": {
   "display_name": "Python 3",
   "language": "python",
   "name": "python3"
  },
  "language_info": {
   "codemirror_mode": {
    "name": "ipython",
    "version": 3
   },
   "file_extension": ".py",
   "mimetype": "text/x-python",
   "name": "python",
   "nbconvert_exporter": "python",
   "pygments_lexer": "ipython3",
   "version": "3.11.9"
  }
 },
 "nbformat": 4,
 "nbformat_minor": 5
}
